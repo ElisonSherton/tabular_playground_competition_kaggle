{
 "cells": [
  {
   "cell_type": "code",
   "execution_count": 1,
   "id": "814c9b3f-a144-4833-b72b-12ba6dafd2e8",
   "metadata": {},
   "outputs": [],
   "source": [
    "import numpy as np\n",
    "import pandas as pd\n",
    "\n",
    "from sklearn.preprocessing import OneHotEncoder\n",
    "from sklearn.impute import SimpleImputer\n",
    "from xgboost import XGBRegressor\n",
    "from sklearn.metrics import roc_auc_score\n",
    "from sklearn.compose import ColumnTransformer\n",
    "from sklearn.pipeline import Pipeline\n",
    "from sklearn.preprocessing import StandardScaler\n",
    "\n",
    "from sklearn.model_selection import train_test_split, GridSearchCV"
   ]
  },
  {
   "cell_type": "code",
   "execution_count": 2,
   "id": "d5f2320d-6872-4e46-927c-207947a2cbaa",
   "metadata": {},
   "outputs": [],
   "source": [
    "train_df = pd.read_csv(\"../../input/train.csv\")\n",
    "test_df = pd.read_csv(\"../../input/test.csv\")"
   ]
  },
  {
   "cell_type": "code",
   "execution_count": 3,
   "id": "a390bcf5-9c63-4700-bfcd-a8a5b51d02ad",
   "metadata": {},
   "outputs": [
    {
     "data": {
      "text/plain": [
       "((900000, 33), (700000, 32))"
      ]
     },
     "execution_count": 3,
     "metadata": {},
     "output_type": "execute_result"
    }
   ],
   "source": [
    "train_df.shape, test_df.shape"
   ]
  },
  {
   "cell_type": "code",
   "execution_count": 4,
   "id": "3cf862d3-03b5-425a-ab68-b39b4cba7a90",
   "metadata": {},
   "outputs": [
    {
     "data": {
      "text/html": [
       "<div>\n",
       "<style scoped>\n",
       "    .dataframe tbody tr th:only-of-type {\n",
       "        vertical-align: middle;\n",
       "    }\n",
       "\n",
       "    .dataframe tbody tr th {\n",
       "        vertical-align: top;\n",
       "    }\n",
       "\n",
       "    .dataframe thead th {\n",
       "        text-align: right;\n",
       "    }\n",
       "</style>\n",
       "<table border=\"1\" class=\"dataframe\">\n",
       "  <thead>\n",
       "    <tr style=\"text-align: right;\">\n",
       "      <th></th>\n",
       "      <th>id</th>\n",
       "      <th>f_00</th>\n",
       "      <th>f_01</th>\n",
       "      <th>f_02</th>\n",
       "      <th>f_03</th>\n",
       "      <th>f_04</th>\n",
       "      <th>f_05</th>\n",
       "      <th>f_06</th>\n",
       "      <th>f_07</th>\n",
       "      <th>f_08</th>\n",
       "      <th>...</th>\n",
       "      <th>f_22</th>\n",
       "      <th>f_23</th>\n",
       "      <th>f_24</th>\n",
       "      <th>f_25</th>\n",
       "      <th>f_26</th>\n",
       "      <th>f_27</th>\n",
       "      <th>f_28</th>\n",
       "      <th>f_29</th>\n",
       "      <th>f_30</th>\n",
       "      <th>target</th>\n",
       "    </tr>\n",
       "  </thead>\n",
       "  <tbody>\n",
       "    <tr>\n",
       "      <th>0</th>\n",
       "      <td>0</td>\n",
       "      <td>-1.373246</td>\n",
       "      <td>0.238887</td>\n",
       "      <td>-0.243376</td>\n",
       "      <td>0.567405</td>\n",
       "      <td>-0.647715</td>\n",
       "      <td>0.839326</td>\n",
       "      <td>0.113133</td>\n",
       "      <td>1</td>\n",
       "      <td>5</td>\n",
       "      <td>...</td>\n",
       "      <td>-2.540739</td>\n",
       "      <td>0.766952</td>\n",
       "      <td>-2.730628</td>\n",
       "      <td>-0.208177</td>\n",
       "      <td>1.363402</td>\n",
       "      <td>ABABDADBAB</td>\n",
       "      <td>67.609153</td>\n",
       "      <td>0</td>\n",
       "      <td>0</td>\n",
       "      <td>0</td>\n",
       "    </tr>\n",
       "    <tr>\n",
       "      <th>1</th>\n",
       "      <td>1</td>\n",
       "      <td>1.697021</td>\n",
       "      <td>-1.710322</td>\n",
       "      <td>-2.230332</td>\n",
       "      <td>-0.545661</td>\n",
       "      <td>1.113173</td>\n",
       "      <td>-1.552175</td>\n",
       "      <td>0.447825</td>\n",
       "      <td>1</td>\n",
       "      <td>3</td>\n",
       "      <td>...</td>\n",
       "      <td>2.278315</td>\n",
       "      <td>-0.633658</td>\n",
       "      <td>-1.217077</td>\n",
       "      <td>-3.782194</td>\n",
       "      <td>-0.058316</td>\n",
       "      <td>ACACCADCEB</td>\n",
       "      <td>377.096415</td>\n",
       "      <td>0</td>\n",
       "      <td>0</td>\n",
       "      <td>1</td>\n",
       "    </tr>\n",
       "  </tbody>\n",
       "</table>\n",
       "<p>2 rows × 33 columns</p>\n",
       "</div>"
      ],
      "text/plain": [
       "   id      f_00      f_01      f_02      f_03      f_04      f_05      f_06  \\\n",
       "0   0 -1.373246  0.238887 -0.243376  0.567405 -0.647715  0.839326  0.113133   \n",
       "1   1  1.697021 -1.710322 -2.230332 -0.545661  1.113173 -1.552175  0.447825   \n",
       "\n",
       "   f_07  f_08  ...      f_22      f_23      f_24      f_25      f_26  \\\n",
       "0     1     5  ... -2.540739  0.766952 -2.730628 -0.208177  1.363402   \n",
       "1     1     3  ...  2.278315 -0.633658 -1.217077 -3.782194 -0.058316   \n",
       "\n",
       "         f_27        f_28  f_29  f_30  target  \n",
       "0  ABABDADBAB   67.609153     0     0       0  \n",
       "1  ACACCADCEB  377.096415     0     0       1  \n",
       "\n",
       "[2 rows x 33 columns]"
      ]
     },
     "execution_count": 4,
     "metadata": {},
     "output_type": "execute_result"
    }
   ],
   "source": [
    "train_df.head(2)"
   ]
  },
  {
   "cell_type": "code",
   "execution_count": 5,
   "id": "8e9a576a-38a7-4c9c-9639-fc441ba15778",
   "metadata": {},
   "outputs": [],
   "source": [
    "y = train_df.pop(\"target\")\n",
    "X = train_df\n",
    "X_train, X_valid, y_train, y_valid = train_test_split(X, y, stratify = y, test_size = 200000)\n",
    "\n",
    "X_test = test_df"
   ]
  },
  {
   "cell_type": "code",
   "execution_count": 6,
   "id": "39affa4a-cced-43b2-9014-76abaf961c14",
   "metadata": {},
   "outputs": [
    {
     "data": {
      "text/plain": [
       "0    359459\n",
       "1    340541\n",
       "Name: target, dtype: int64"
      ]
     },
     "execution_count": 6,
     "metadata": {},
     "output_type": "execute_result"
    }
   ],
   "source": [
    "y_train.value_counts()"
   ]
  },
  {
   "cell_type": "code",
   "execution_count": 7,
   "id": "d1ae2c05-868a-4920-958b-6f30481de119",
   "metadata": {},
   "outputs": [
    {
     "data": {
      "text/plain": [
       "id          484569\n",
       "f_00      0.679338\n",
       "f_01      0.318183\n",
       "f_02     -1.671308\n",
       "f_03     -1.751046\n",
       "f_04      -0.07602\n",
       "f_05     -0.483074\n",
       "f_06     -0.809365\n",
       "f_07             1\n",
       "f_08             4\n",
       "f_09             2\n",
       "f_10             2\n",
       "f_11             2\n",
       "f_12             2\n",
       "f_13             2\n",
       "f_14             1\n",
       "f_15             2\n",
       "f_16             1\n",
       "f_17             2\n",
       "f_18             1\n",
       "f_19      2.770492\n",
       "f_20      0.272204\n",
       "f_21      0.713919\n",
       "f_22       0.15752\n",
       "f_23     -0.048831\n",
       "f_24      -1.95694\n",
       "f_25     -0.267224\n",
       "f_26     -2.077421\n",
       "f_27    BAAGBBCKCB\n",
       "f_28   -191.148968\n",
       "f_29             1\n",
       "f_30             1\n",
       "Name: 484569, dtype: object"
      ]
     },
     "execution_count": 7,
     "metadata": {},
     "output_type": "execute_result"
    }
   ],
   "source": [
    "X_train.iloc[0]"
   ]
  },
  {
   "cell_type": "code",
   "execution_count": 8,
   "id": "45e0d44e-ca0b-46bb-9c81-ff59575e0e24",
   "metadata": {},
   "outputs": [
    {
     "name": "stdout",
     "output_type": "stream",
     "text": [
      "f_07 16\n",
      "f_08 16\n",
      "f_09 14\n",
      "f_10 15\n",
      "f_11 14\n",
      "f_12 16\n",
      "f_13 13\n",
      "f_14 14\n",
      "f_15 15\n",
      "f_16 15\n",
      "f_17 14\n",
      "f_18 14\n"
     ]
    }
   ],
   "source": [
    "for fnum in range(7, 19):\n",
    "    colname = f\"f_{fnum:0>2d}\"\n",
    "    print(colname, X_train[colname].nunique())"
   ]
  },
  {
   "cell_type": "code",
   "execution_count": 9,
   "id": "fbf1bc36-7133-4b7a-9f49-fbfea2d54228",
   "metadata": {},
   "outputs": [
    {
     "name": "stdout",
     "output_type": "stream",
     "text": [
      "f_27 597997\n",
      "f_29 2\n",
      "f_30 3\n"
     ]
    }
   ],
   "source": [
    "cols = [\"f_27\", \"f_29\", \"f_30\"]\n",
    "for colname in cols:\n",
    "    print(colname, X_train[colname].nunique())"
   ]
  },
  {
   "cell_type": "markdown",
   "id": "8267e931-4d69-4220-b5e3-c3d52fa164fb",
   "metadata": {},
   "source": [
    "For baseline, let us drop column f_27 since it has a very high proportion of categorical information. Let us also encode other categorical information using One hot encoding and then build a simple random forest regressor model and mark our entry into the competition."
   ]
  },
  {
   "cell_type": "code",
   "execution_count": 10,
   "id": "407468fa-3a18-451a-82f8-054d3aba2ce5",
   "metadata": {},
   "outputs": [
    {
     "data": {
      "text/plain": [
       "(16, 14)"
      ]
     },
     "execution_count": 10,
     "metadata": {},
     "output_type": "execute_result"
    }
   ],
   "source": [
    "cat_cols = [f\"f_{fnum:0>2d}\" for fnum in range(7, 19)] + [\"f_29\" , \"f_30\"]\n",
    "num_cols = [y for y in X_train.columns if (not y in cat_cols) and (y != \"id\") and (y != \"f_27\")]\n",
    "len(num_cols), len(cat_cols)"
   ]
  },
  {
   "cell_type": "code",
   "execution_count": 11,
   "id": "459e0fd8-20e3-4812-a38c-fb7699db93e7",
   "metadata": {},
   "outputs": [],
   "source": [
    "# Define the preprocessing steps for numeric and categorical variables respectively\n",
    "numeric_transformer = Pipeline(steps = [('imputer', SimpleImputer(strategy = 'mean')),\n",
    "                                        ('scaler', StandardScaler())])\n",
    "\n",
    "categorical_transformer = Pipeline(steps = [('imputer', SimpleImputer(strategy = 'most_frequent')),\n",
    "                                            ('encoder', OneHotEncoder(handle_unknown = 'ignore'))])\n",
    "\n",
    "# Define the preprocesser using the above pipeline transforms\n",
    "preprocessor = ColumnTransformer(transformers = [('numeric', numeric_transformer, num_cols),\n",
    "                                                 ('categorical', categorical_transformer, cat_cols)])"
   ]
  },
  {
   "cell_type": "code",
   "execution_count": 12,
   "id": "8ed13fd8-e97c-4776-bb34-2e753c8eb477",
   "metadata": {},
   "outputs": [],
   "source": [
    "# Define the grid search object to perform fitting of our model\n",
    "param_grid = {\"max_depth\": [3, 6, 9], \"lambda\": np.arange(0.75, 1, 3, 5)}\n",
    "\n",
    "gscv = GridSearchCV(estimator = XGBRegressor(),\n",
    "                    param_grid=param_grid,\n",
    "                    scoring = \"roc_auc\", cv = 4, n_jobs = -1)\n",
    "\n",
    "model_pipeline = Pipeline(steps = [(\"preprocessor\", preprocessor),\n",
    "                                   (\"model\", gscv)])"
   ]
  },
  {
   "cell_type": "code",
   "execution_count": 13,
   "id": "3df72f45-6a1f-429f-8059-5c6ba9c132a6",
   "metadata": {},
   "outputs": [
    {
     "data": {
      "text/plain": [
       "((700000, 32), (700000,))"
      ]
     },
     "execution_count": 13,
     "metadata": {},
     "output_type": "execute_result"
    }
   ],
   "source": [
    "X_train.shape, y_train.shape"
   ]
  },
  {
   "cell_type": "code",
   "execution_count": null,
   "id": "5587c055-4a38-43b5-a91c-a68947eb310c",
   "metadata": {},
   "outputs": [],
   "source": [
    "model = model_pipeline.fit(X_train, y_train)\n",
    "print(model)"
   ]
  },
  {
   "cell_type": "code",
   "execution_count": null,
   "id": "1db5e17a-60dd-43c7-a195-91fe8e947c20",
   "metadata": {},
   "outputs": [],
   "source": [
    "# Look at the score of the best model\n",
    "model.steps[1][1].best_score_"
   ]
  },
  {
   "cell_type": "code",
   "execution_count": null,
   "id": "c5ccd722-42f7-4fce-a884-e4d77f25bbd1",
   "metadata": {},
   "outputs": [],
   "source": [
    "# Look at the best parameters\n",
    "model.steps[1][1].best_params_"
   ]
  },
  {
   "cell_type": "code",
   "execution_count": null,
   "id": "2db33a40-1db7-4d49-9643-2f1410eb7889",
   "metadata": {},
   "outputs": [],
   "source": [
    "# Validate the model on validation data\n",
    "y_pred = model.predict(X_valid)\n",
    "\n",
    "# Print the validation metric\n",
    "roc_auc_score(y_pred, y_valid)"
   ]
  },
  {
   "cell_type": "code",
   "execution_count": null,
   "id": "57ce5fe4-142f-4359-aff1-ada6f2d1cf1e",
   "metadata": {},
   "outputs": [],
   "source": [
    "# Look at the submission format\n",
    "! head -n 10 ./input/sample_submission.csv"
   ]
  },
  {
   "cell_type": "code",
   "execution_count": null,
   "id": "8ed7c1aa-a62f-4c3c-82fe-b75b5752054c",
   "metadata": {},
   "outputs": [],
   "source": [
    "# Predict on test data\n",
    "pd.DataFrame({\"Id\":X_test.Id,\n",
    "              \"SalePrice\":model.predict(X_test)}).to_csv(\"../../submissions/May_2022/submission_xgboost.csv\", index = None)"
   ]
  },
  {
   "cell_type": "markdown",
   "id": "33892009-cd1b-410e-ac6f-2e0c711d3566",
   "metadata": {
    "tags": []
   },
   "source": [
    "# Use the entire training set"
   ]
  },
  {
   "cell_type": "code",
   "execution_count": null,
   "id": "2ee0cd5b-61f8-40c7-a05b-45ef2cc4c25b",
   "metadata": {},
   "outputs": [],
   "source": [
    "final_X_train = pd.concat([X_train, X_valid])\n",
    "final_y_train = pd.concat([y_train, y_valid])\n",
    "\n",
    "final_model = model_pipeline.fit(final_X_train, final_y_train)\n",
    "final_model"
   ]
  },
  {
   "cell_type": "code",
   "execution_count": null,
   "id": "c2996027-cbc5-4b07-885c-1c907e975745",
   "metadata": {},
   "outputs": [],
   "source": [
    "# Look at the score of the best model\n",
    "(-1 * final_model.steps[1][1].best_score_) ** 0.5"
   ]
  },
  {
   "cell_type": "code",
   "execution_count": null,
   "id": "a813ebcb-f716-4efd-9677-b0911493d425",
   "metadata": {},
   "outputs": [],
   "source": [
    "# Look at the best parameters\n",
    "final_model.steps[1][1].best_params_"
   ]
  },
  {
   "cell_type": "code",
   "execution_count": null,
   "id": "a851f4c7-c179-4bb6-bb7e-380a05a55c87",
   "metadata": {},
   "outputs": [],
   "source": [
    "# Predict on test data\n",
    "pd.DataFrame({\"Id\":X_test.Id,\n",
    "              \"SalePrice\":final_model.predict(X_test)}).to_csv(\"../../submissions/May_2022/submission_xgboost_full.csv\", index = None)"
   ]
  }
 ],
 "metadata": {
  "kernelspec": {
   "display_name": "Python 3 (ipykernel)",
   "language": "python",
   "name": "python3"
  },
  "language_info": {
   "codemirror_mode": {
    "name": "ipython",
    "version": 3
   },
   "file_extension": ".py",
   "mimetype": "text/x-python",
   "name": "python",
   "nbconvert_exporter": "python",
   "pygments_lexer": "ipython3",
   "version": "3.8.12"
  }
 },
 "nbformat": 4,
 "nbformat_minor": 5
}
